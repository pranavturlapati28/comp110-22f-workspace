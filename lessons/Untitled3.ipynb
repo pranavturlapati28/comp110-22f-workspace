{
 "cells": [
  {
   "cell_type": "code",
   "execution_count": 2,
   "id": "4ec50b47-cb35-4254-9d8c-a653db05d4fa",
   "metadata": {},
   "outputs": [],
   "source": [
    "def head(table: dict[str, list[str]], number_rows: int) -> dict[str, list[str]]:\n",
    "    \"\"\"Produces a table with the first number of rows\"\"\"\n",
    "    result: dict[str, list[str]] = {}\n",
    "    for item in table:\n",
    "        empty_list: list[str] = []\n",
    "        for i in range(number_rows):\n",
    "            empty_list.append(item[i])\n",
    "        result[item] = empty_list\n",
    "    return result"
   ]
  },
  {
   "cell_type": "code",
   "execution_count": 16,
   "id": "e12b3a45-7242-4850-9968-cce93fd47194",
   "metadata": {},
   "outputs": [
    {
     "data": {
      "text/plain": [
       "[51]"
      ]
     },
     "execution_count": 16,
     "metadata": {},
     "output_type": "execute_result"
    }
   ],
   "source": []
  },
  {
   "cell_type": "code",
   "execution_count": null,
   "id": "38ca4673-a2c9-4198-b061-3fcc44a9766b",
   "metadata": {},
   "outputs": [],
   "source": []
  }
 ],
 "metadata": {
  "kernelspec": {
   "display_name": "Python 3 (ipykernel)",
   "language": "python",
   "name": "python3"
  },
  "language_info": {
   "codemirror_mode": {
    "name": "ipython",
    "version": 3
   },
   "file_extension": ".py",
   "mimetype": "text/x-python",
   "name": "python",
   "nbconvert_exporter": "python",
   "pygments_lexer": "ipython3",
   "version": "3.10.6"
  }
 },
 "nbformat": 4,
 "nbformat_minor": 5
}
