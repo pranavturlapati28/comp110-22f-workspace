{
 "cells": [
  {
   "cell_type": "code",
   "execution_count": 15,
   "id": "4ec50b47-cb35-4254-9d8c-a653db05d4fa",
   "metadata": {},
   "outputs": [],
   "source": [
    "col_data: dict[str, list[float]] = {\n",
    "    \"high\": [77, 84, 78, 79, 65, 67, 74, 61, 55, 61],\n",
    "    \"low\":  [67, 51, 64, 45, 43, 53, 56, 37, 34, 42],\n",
    "    \"rain\": [.3, .2, .4, .8, 0., .2, .4, .5, .1, .1]\n",
    "}\n",
    "\n",
    "def less_than(xs: list[float], thresh: int) -> list[bool]:\n",
    "    results: list[bool] = []\n",
    "    for item in xs:\n",
    "        results.append(item<thresh)\n",
    "    return results\n",
    "\n",
    "def masked(xr:list[float], xs:list[bool]) -> list[float]:\n",
    "    result: list[bool] = []\n",
    "    for i in range(len(xs)):\n",
    "        if xs[i]:\n",
    "            result.append(xr[i])\n",
    "    return result\n",
    "\n",
    "def not_mask(mask: list[bool]) -> list[bool]:\n",
    "    result: list[bool] = []\n",
    "    for item in mask:\n",
    "        result.append(not item)\n",
    "    return result\n",
    "\n",
    "import numpy as np"
   ]
  },
  {
   "cell_type": "code",
   "execution_count": 16,
   "id": "e12b3a45-7242-4850-9968-cce93fd47194",
   "metadata": {},
   "outputs": [
    {
     "data": {
      "text/plain": [
       "[51]"
      ]
     },
     "execution_count": 16,
     "metadata": {},
     "output_type": "execute_result"
    }
   ],
   "source": [
    "mask_a: list[bool] = less_than(col_data[\"high\"], 80)\n",
    "mask_b: list[bool] = not_mask(mask_a)\n",
    "\n",
    "values: list[float] = masked(col_data[\"low\"], mask_b)\n",
    "values"
   ]
  },
  {
   "cell_type": "code",
   "execution_count": null,
   "id": "38ca4673-a2c9-4198-b061-3fcc44a9766b",
   "metadata": {},
   "outputs": [],
   "source": []
  }
 ],
 "metadata": {
  "kernelspec": {
   "display_name": "Python 3 (ipykernel)",
   "language": "python",
   "name": "python3"
  },
  "language_info": {
   "codemirror_mode": {
    "name": "ipython",
    "version": 3
   },
   "file_extension": ".py",
   "mimetype": "text/x-python",
   "name": "python",
   "nbconvert_exporter": "python",
   "pygments_lexer": "ipython3",
   "version": "3.10.6"
  }
 },
 "nbformat": 4,
 "nbformat_minor": 5
}
