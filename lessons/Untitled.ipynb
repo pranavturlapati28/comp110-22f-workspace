{
 "cells": [
  {
   "cell_type": "code",
   "execution_count": 6,
   "id": "05a9ded5-369c-4edb-b093-39ee13480f0a",
   "metadata": {},
   "outputs": [],
   "source": [
    "def only_evens(xs: list[int]) -> list[int]:\n",
    "    new_list: list[int] = list()\n",
    "    for item in xs:\n",
    "        if item % 2 == 0:\n",
    "            new_list.append(item)\n",
    "    return new_list"
   ]
  },
  {
   "cell_type": "code",
   "execution_count": 13,
   "id": "ac3502d6-7d99-420e-80cc-a5ff7a4cf19a",
   "metadata": {},
   "outputs": [
    {
     "data": {
      "text/plain": [
       "[]"
      ]
     },
     "execution_count": 13,
     "metadata": {},
     "output_type": "execute_result"
    }
   ],
   "source": [
    "only_evens([])"
   ]
  },
  {
   "cell_type": "code",
   "execution_count": 8,
   "id": "4cff88ff-5424-4f54-83e3-82bce2c728e7",
   "metadata": {},
   "outputs": [],
   "source": [
    "def concat(first_list: list[int], second_list: list[int]) -> list[int]:\n",
    "    \"\"\"This list combines two lists\"\"\"\n",
    "    new_list: list[int] = first_list\n",
    "    for item in second_list:\n",
    "        new_list.append(item)\n",
    "    return new_list"
   ]
  },
  {
   "cell_type": "code",
   "execution_count": 53,
   "id": "97bccfb1-ca7e-4bcd-8b7d-ce834625286d",
   "metadata": {},
   "outputs": [],
   "source": [
    "def greet() -> None:\n",
    "    global player\n",
    "    player = input(\"Nice to meet you! What's your name?\")\n",
    "    print(f\"Hey {player} how are you? Let's play play rock{ROCK_EMOJI}, paper{PAPER_EMOJI}, scissors{SCISSOR_EMOJI}\")"
   ]
  },
  {
   "cell_type": "code",
   "execution_count": 54,
   "id": "1827fc3c-20d9-4cd5-b940-21d3e97fd0fe",
   "metadata": {},
   "outputs": [],
   "source": [
    "ROCK_EMOJI = \"\\U0001F44A\"\n",
    "PAPER_EMOJI = \"\\U0001F91A\"\n",
    "SCISSOR_EMOJI = \"\\U0001F596\"\n",
    "player: str = \"\"\n",
    "points: int\n",
    "CHOICES: list[str] = [\"Rock\", \"Paper\", \"Scissors\"]"
   ]
  },
  {
   "cell_type": "code",
   "execution_count": 55,
   "id": "b08d54e5-1a7a-465f-a5a6-ba08a23040bb",
   "metadata": {},
   "outputs": [],
   "source": [
    "import random\n",
    "def play_rps() -> None:\n",
    "    global points\n",
    "    player_choice: str = input(f\"Thanks for choosing to play rock, paper, scissors with me {player}! What do you choose? ('Rock' {ROCK_EMOJI}, 'Paper' {PAPER_EMOJI}, 'Scissors' {SCISSOR_EMOJI}): \")\n",
    "    points += 1\n",
    "    while player_choice not in \"RockPaperScissors\":\n",
    "        player_choice = input(f\"Please choose 'Rock', 'Paper', or 'Scissors': \")\n",
    "    computer_choice: str = random.choice(CHOICES)\n",
    "    while player_choice == computer_choice:\n",
    "        player_choice = input(f\"NOO, we picked the same thing, will you pick again?: ('Rock' {ROCK_EMOJI}, 'Paper' {PAPER_EMOJI}, 'Scissors' {SCISSOR_EMOJI}): \")\n",
    "        computer_choice = random.choice(CHOICES)  \n",
    "    if player_choice == \"Rock\" and computer_choice == \"Scissors\":\n",
    "        print(f\";( you won, I chose {computer_choice}\")\n",
    "        points += 5\n",
    "    elif player_choice == \"Paper\" and computer_choice == \"Rock\":\n",
    "        print(f\";( you won, I chose {computer_choice}\")\n",
    "        points += 5\n",
    "    elif player_choice == \"Scissors\" and computer_choice == \"Paper\":\n",
    "        print(f\";( you won, I chose {computer_choice}\")\n",
    "        points += 5\n",
    "    elif computer_choice == \"Rock\" and player_choice == \"Scissors\":\n",
    "        print(f\";( I won, I chose {computer_choice}\")\n",
    "        points -= 5\n",
    "    elif computer_choice == \"Paper\" and player_choice == \"Rock\":\n",
    "        print(f\";( I won, I chose {computer_choice}\")\n",
    "        points -= 5\n",
    "    elif computer_choice == \"Scissors\" and player_choice == \"Paper\":\n",
    "        print(f\";( I won, I chose {computer_choice}\")\n",
    "        points -= 5\n",
    "\n",
    "        "
   ]
  },
  {
   "cell_type": "code",
   "execution_count": 76,
   "id": "ecaaf977-3b5f-4ff9-9431-e1ffb90c3b1f",
   "metadata": {},
   "outputs": [],
   "source": [
    "def main() -> None:\n",
    "    global points\n",
    "    points = 0\n",
    "    greet()\n",
    "    print(\"_____________________________\")\n",
    "    continue_choice = '1'\n",
    "    while continue_choice in '12':\n",
    "        print(f\"Option 1: Play a normal game of rock{ROCK_EMOJI}, paper{PAPER_EMOJI}, scissors{SCISSOR_EMOJI}\")\n",
    "        print(f\"Option 2: Gamble with rock{ROCK_EMOJI}, paper{PAPER_EMOJI}, scissors{SCISSOR_EMOJI}\")\n",
    "        print(f\"Option 3: Exit and see how many adventure points you earned?\")\n",
    "        continue_choice = input(f\"Would you like to play rock{ROCK_EMOJI}, paper{PAPER_EMOJI}, scissors{SCISSOR_EMOJI}? Choose an option from below ('1','2','3'): \")\n",
    "        print(\"_____________________________\")\n",
    "        while continue_choice not in \"123\":\n",
    "            continue_choice = input(\"Please chose '1', '2','3'\")\n",
    "            print(\"_____________________________\")\n",
    "        if continue_choice == \"1\":\n",
    "            play_rps()\n",
    "            print(\"_____________________________\")\n",
    "        elif continue_choice == \"2\":\n",
    "            points += gamble_rps(int(input(f\"How much will you gamble to me {player}?\")))\n",
    "            print(\"_____________________________\")\n",
    "        print(f\"Number of points: {points}\")\n",
    "        print(\"_____________________________\")\n",
    "    print(f\"You have earned {points} points, great job!\")\n",
    "    print(\"_____________________________\")"
   ]
  },
  {
   "cell_type": "code",
   "execution_count": 79,
   "id": "4bfd024e-b80d-4646-ad02-7ed70cd95d09",
   "metadata": {},
   "outputs": [],
   "source": [
    "def gamble_rps(gamble_amount: int) -> int:\n",
    "    computer_gamble = gamble_amount + random.randint(10,100)\n",
    "    print(f\"Great, I will raise your gamble myself and bet {computer_gamble} points\")\n",
    "    player_choice: str = input(f\"Thanks for gambling with me {player}! What do you choose? ('Rock' {ROCK_EMOJI}, 'Paper' {PAPER_EMOJI}, 'Scissors' {SCISSOR_EMOJI}): \")\n",
    "    while player_choice not in \"RockPaperScissors\":\n",
    "        player_choice = input(f\"Please choose 'Rock', 'Paper', or 'Scissors': \")\n",
    "    computer_choice: str = random.choice(CHOICES)\n",
    "    while player_choice == computer_choice:\n",
    "        player_choice = input(f\"NOO, this is stressful, we picked the same thing, will you pick again?: ('Rock' {ROCK_EMOJI}, 'Paper' {PAPER_EMOJI}, 'Scissors' {SCISSOR_EMOJI}): \")\n",
    "        computer_choice = random.choice(CHOICES)  \n",
    "    if player_choice == \"Rock\" and computer_choice == \"Scissors\":\n",
    "        print(f\";( you won, I chose {computer_choice}\")\n",
    "        return computer_gamble\n",
    "    elif player_choice == \"Paper\" and computer_choice == \"Rock\":\n",
    "        print(f\";( you won, I chose {computer_choice}\")\n",
    "        return computer_gamble\n",
    "    elif player_choice == \"Scissors\" and computer_choice == \"Paper\":\n",
    "        print(f\";( you won, I chose {computer_choice}\")\n",
    "        return computer_gamble\n",
    "    elif computer_choice == \"Rock\" and player_choice == \"Scissors\":\n",
    "        print(f\";( I won, I chose {computer_choice}\")\n",
    "        return -1*gamble_amount\n",
    "    elif computer_choice == \"Paper\" and player_choice == \"Rock\":\n",
    "        print(f\";( I won, I chose {computer_choice}\")\n",
    "        return -1*gamble_amount\n",
    "    elif computer_choice == \"Scissors\" and player_choice == \"Paper\":\n",
    "        print(f\";( I won, I chose {computer_choice}\")\n",
    "        return -1*gamble_amount"
   ]
  },
  {
   "cell_type": "code",
   "execution_count": 78,
   "id": "c18a3229-c918-4d89-8e90-70fdaf267830",
   "metadata": {},
   "outputs": [
    {
     "name": "stdin",
     "output_type": "stream",
     "text": [
      "Nice to meet you! What's your name? Pranav\n"
     ]
    },
    {
     "name": "stdout",
     "output_type": "stream",
     "text": [
      "Hey Pranav how are you? Let's play play rock👊, paper🤚, scissors🖖\n",
      "_____________________________\n",
      "Option 1: Play a normal game of rock👊, paper🤚, scissors🖖\n",
      "Option 2: Gamble with rock👊, paper🤚, scissors🖖\n",
      "Option 3: Exit and see how many adventure points you earned?\n"
     ]
    },
    {
     "name": "stdin",
     "output_type": "stream",
     "text": [
      "Would you like to play rock👊, paper🤚, scissors🖖? Choose an option from below ('1','2','3'):  2\n"
     ]
    },
    {
     "name": "stdout",
     "output_type": "stream",
     "text": [
      "_____________________________\n"
     ]
    },
    {
     "name": "stdin",
     "output_type": "stream",
     "text": [
      "How much will you gamble to me Pranav? 500\n"
     ]
    },
    {
     "name": "stdout",
     "output_type": "stream",
     "text": [
      "Great, I will raise your gamble myself and bet 541 points\n"
     ]
    },
    {
     "name": "stdin",
     "output_type": "stream",
     "text": [
      "Thanks for gambling with me Pranav! What do you choose? ('Rock' 👊, 'Paper' 🤚, 'Scissors' 🖖):  Paper\n",
      "NOO, this is stressful, we picked the same thing, will you pick again?: ('Rock' 👊, 'Paper' 🤚, 'Scissors' 🖖):  Rock\n"
     ]
    },
    {
     "name": "stdout",
     "output_type": "stream",
     "text": [
      ";( you won 500, I chose Scissors\n",
      "_____________________________\n",
      "Number of points: 541\n",
      "_____________________________\n",
      "Option 1: Play a normal game of rock👊, paper🤚, scissors🖖\n",
      "Option 2: Gamble with rock👊, paper🤚, scissors🖖\n",
      "Option 3: Exit and see how many adventure points you earned?\n"
     ]
    },
    {
     "ename": "KeyboardInterrupt",
     "evalue": "Interrupted by user",
     "output_type": "error",
     "traceback": [
      "\u001b[0;31m---------------------------------------------------------------------------\u001b[0m",
      "\u001b[0;31mKeyboardInterrupt\u001b[0m                         Traceback (most recent call last)",
      "Input \u001b[0;32mIn [78]\u001b[0m, in \u001b[0;36m<cell line: 1>\u001b[0;34m()\u001b[0m\n\u001b[0;32m----> 1\u001b[0m \u001b[43mmain\u001b[49m\u001b[43m(\u001b[49m\u001b[43m)\u001b[49m\n",
      "Input \u001b[0;32mIn [76]\u001b[0m, in \u001b[0;36mmain\u001b[0;34m()\u001b[0m\n\u001b[1;32m      9\u001b[0m \u001b[38;5;28mprint\u001b[39m(\u001b[38;5;124mf\u001b[39m\u001b[38;5;124m\"\u001b[39m\u001b[38;5;124mOption 2: Gamble with rock\u001b[39m\u001b[38;5;132;01m{\u001b[39;00mROCK_EMOJI\u001b[38;5;132;01m}\u001b[39;00m\u001b[38;5;124m, paper\u001b[39m\u001b[38;5;132;01m{\u001b[39;00mPAPER_EMOJI\u001b[38;5;132;01m}\u001b[39;00m\u001b[38;5;124m, scissors\u001b[39m\u001b[38;5;132;01m{\u001b[39;00mSCISSOR_EMOJI\u001b[38;5;132;01m}\u001b[39;00m\u001b[38;5;124m\"\u001b[39m)\n\u001b[1;32m     10\u001b[0m \u001b[38;5;28mprint\u001b[39m(\u001b[38;5;124mf\u001b[39m\u001b[38;5;124m\"\u001b[39m\u001b[38;5;124mOption 3: Exit and see how many adventure points you earned?\u001b[39m\u001b[38;5;124m\"\u001b[39m)\n\u001b[0;32m---> 11\u001b[0m continue_choice \u001b[38;5;241m=\u001b[39m \u001b[38;5;28;43minput\u001b[39;49m\u001b[43m(\u001b[49m\u001b[38;5;124;43mf\u001b[39;49m\u001b[38;5;124;43m\"\u001b[39;49m\u001b[38;5;124;43mWould you like to play rock\u001b[39;49m\u001b[38;5;132;43;01m{\u001b[39;49;00m\u001b[43mROCK_EMOJI\u001b[49m\u001b[38;5;132;43;01m}\u001b[39;49;00m\u001b[38;5;124;43m, paper\u001b[39;49m\u001b[38;5;132;43;01m{\u001b[39;49;00m\u001b[43mPAPER_EMOJI\u001b[49m\u001b[38;5;132;43;01m}\u001b[39;49;00m\u001b[38;5;124;43m, scissors\u001b[39;49m\u001b[38;5;132;43;01m{\u001b[39;49;00m\u001b[43mSCISSOR_EMOJI\u001b[49m\u001b[38;5;132;43;01m}\u001b[39;49;00m\u001b[38;5;124;43m? Choose an option from below (\u001b[39;49m\u001b[38;5;124;43m'\u001b[39;49m\u001b[38;5;124;43m1\u001b[39;49m\u001b[38;5;124;43m'\u001b[39;49m\u001b[38;5;124;43m,\u001b[39;49m\u001b[38;5;124;43m'\u001b[39;49m\u001b[38;5;124;43m2\u001b[39;49m\u001b[38;5;124;43m'\u001b[39;49m\u001b[38;5;124;43m,\u001b[39;49m\u001b[38;5;124;43m'\u001b[39;49m\u001b[38;5;124;43m3\u001b[39;49m\u001b[38;5;124;43m'\u001b[39;49m\u001b[38;5;124;43m): \u001b[39;49m\u001b[38;5;124;43m\"\u001b[39;49m\u001b[43m)\u001b[49m\n\u001b[1;32m     12\u001b[0m \u001b[38;5;28mprint\u001b[39m(\u001b[38;5;124m\"\u001b[39m\u001b[38;5;124m_____________________________\u001b[39m\u001b[38;5;124m\"\u001b[39m)\n\u001b[1;32m     13\u001b[0m \u001b[38;5;28;01mwhile\u001b[39;00m continue_choice \u001b[38;5;129;01mnot\u001b[39;00m \u001b[38;5;129;01min\u001b[39;00m \u001b[38;5;124m\"\u001b[39m\u001b[38;5;124m123\u001b[39m\u001b[38;5;124m\"\u001b[39m:\n",
      "File \u001b[0;32m~/Library/Python/3.10/lib/python/site-packages/ipykernel/kernelbase.py:1177\u001b[0m, in \u001b[0;36mKernel.raw_input\u001b[0;34m(self, prompt)\u001b[0m\n\u001b[1;32m   1173\u001b[0m \u001b[38;5;28;01mif\u001b[39;00m \u001b[38;5;129;01mnot\u001b[39;00m \u001b[38;5;28mself\u001b[39m\u001b[38;5;241m.\u001b[39m_allow_stdin:\n\u001b[1;32m   1174\u001b[0m     \u001b[38;5;28;01mraise\u001b[39;00m StdinNotImplementedError(\n\u001b[1;32m   1175\u001b[0m         \u001b[38;5;124m\"\u001b[39m\u001b[38;5;124mraw_input was called, but this frontend does not support input requests.\u001b[39m\u001b[38;5;124m\"\u001b[39m\n\u001b[1;32m   1176\u001b[0m     )\n\u001b[0;32m-> 1177\u001b[0m \u001b[38;5;28;01mreturn\u001b[39;00m \u001b[38;5;28;43mself\u001b[39;49m\u001b[38;5;241;43m.\u001b[39;49m\u001b[43m_input_request\u001b[49m\u001b[43m(\u001b[49m\n\u001b[1;32m   1178\u001b[0m \u001b[43m    \u001b[49m\u001b[38;5;28;43mstr\u001b[39;49m\u001b[43m(\u001b[49m\u001b[43mprompt\u001b[49m\u001b[43m)\u001b[49m\u001b[43m,\u001b[49m\n\u001b[1;32m   1179\u001b[0m \u001b[43m    \u001b[49m\u001b[38;5;28;43mself\u001b[39;49m\u001b[38;5;241;43m.\u001b[39;49m\u001b[43m_parent_ident\u001b[49m\u001b[43m[\u001b[49m\u001b[38;5;124;43m\"\u001b[39;49m\u001b[38;5;124;43mshell\u001b[39;49m\u001b[38;5;124;43m\"\u001b[39;49m\u001b[43m]\u001b[49m\u001b[43m,\u001b[49m\n\u001b[1;32m   1180\u001b[0m \u001b[43m    \u001b[49m\u001b[38;5;28;43mself\u001b[39;49m\u001b[38;5;241;43m.\u001b[39;49m\u001b[43mget_parent\u001b[49m\u001b[43m(\u001b[49m\u001b[38;5;124;43m\"\u001b[39;49m\u001b[38;5;124;43mshell\u001b[39;49m\u001b[38;5;124;43m\"\u001b[39;49m\u001b[43m)\u001b[49m\u001b[43m,\u001b[49m\n\u001b[1;32m   1181\u001b[0m \u001b[43m    \u001b[49m\u001b[43mpassword\u001b[49m\u001b[38;5;241;43m=\u001b[39;49m\u001b[38;5;28;43;01mFalse\u001b[39;49;00m\u001b[43m,\u001b[49m\n\u001b[1;32m   1182\u001b[0m \u001b[43m\u001b[49m\u001b[43m)\u001b[49m\n",
      "File \u001b[0;32m~/Library/Python/3.10/lib/python/site-packages/ipykernel/kernelbase.py:1219\u001b[0m, in \u001b[0;36mKernel._input_request\u001b[0;34m(self, prompt, ident, parent, password)\u001b[0m\n\u001b[1;32m   1216\u001b[0m             \u001b[38;5;28;01mbreak\u001b[39;00m\n\u001b[1;32m   1217\u001b[0m \u001b[38;5;28;01mexcept\u001b[39;00m \u001b[38;5;167;01mKeyboardInterrupt\u001b[39;00m:\n\u001b[1;32m   1218\u001b[0m     \u001b[38;5;66;03m# re-raise KeyboardInterrupt, to truncate traceback\u001b[39;00m\n\u001b[0;32m-> 1219\u001b[0m     \u001b[38;5;28;01mraise\u001b[39;00m \u001b[38;5;167;01mKeyboardInterrupt\u001b[39;00m(\u001b[38;5;124m\"\u001b[39m\u001b[38;5;124mInterrupted by user\u001b[39m\u001b[38;5;124m\"\u001b[39m) \u001b[38;5;28;01mfrom\u001b[39;00m \u001b[38;5;28mNone\u001b[39m\n\u001b[1;32m   1220\u001b[0m \u001b[38;5;28;01mexcept\u001b[39;00m \u001b[38;5;167;01mException\u001b[39;00m:\n\u001b[1;32m   1221\u001b[0m     \u001b[38;5;28mself\u001b[39m\u001b[38;5;241m.\u001b[39mlog\u001b[38;5;241m.\u001b[39mwarning(\u001b[38;5;124m\"\u001b[39m\u001b[38;5;124mInvalid Message:\u001b[39m\u001b[38;5;124m\"\u001b[39m, exc_info\u001b[38;5;241m=\u001b[39m\u001b[38;5;28;01mTrue\u001b[39;00m)\n",
      "\u001b[0;31mKeyboardInterrupt\u001b[0m: Interrupted by user"
     ]
    }
   ],
   "source": [
    "main()"
   ]
  },
  {
   "cell_type": "code",
   "execution_count": 51,
   "id": "0c097528-2dc5-4ef2-8609-8bdb5b05440a",
   "metadata": {},
   "outputs": [
    {
     "data": {
      "text/plain": [
       "'Pranav\\nHello'"
      ]
     },
     "execution_count": 51,
     "metadata": {},
     "output_type": "execute_result"
    }
   ],
   "source": [
    "\"Pranav\\nHello\""
   ]
  },
  {
   "cell_type": "code",
   "execution_count": 60,
   "id": "124dde1c-7516-465d-a983-45aa89a3af89",
   "metadata": {},
   "outputs": [
    {
     "name": "stdout",
     "output_type": "stream",
     "text": [
      "{'Pranav': 'purple', 'Kris': 'blue', 'Roshan': 'red'}\n"
     ]
    }
   ],
   "source": [
    "squares = {\"Pranav\": \"purple\", \"Kris\": \"blue\", \"Roshan\": \"red\"}\n",
    "\n",
    "print(squares)"
   ]
  },
  {
   "cell_type": "code",
   "execution_count": 56,
   "id": "0c93309c-a013-4952-9e69-8ecc294e1317",
   "metadata": {},
   "outputs": [],
   "source": [
    "def favorite_color(fd: dict[str, str]) -> str:\n",
    "    colors_counts: dict[str, int] = {}\n",
    "    colors: list[str] = []\n",
    "    for key in fd:\n",
    "        if fd[key] not in colors:\n",
    "            colors_counts[fd[key]] = 1\n",
    "            colors.append(fd[key])\n",
    "        else:\n",
    "            colors_counts[fd[key]] += 1\n",
    "    for key in colors_counts:\n",
    "        if colors_counts[key] == max(colors_counts.values()):\n",
    "            return key\n",
    "    \n",
    "        \n"
   ]
  },
  {
   "cell_type": "code",
   "execution_count": 62,
   "id": "83367d88-24da-4f5e-8c8d-f61298a6cbfc",
   "metadata": {},
   "outputs": [
    {
     "data": {
      "text/plain": [
       "'purple'"
      ]
     },
     "execution_count": 62,
     "metadata": {},
     "output_type": "execute_result"
    }
   ],
   "source": [
    "favorite_color(squares)"
   ]
  },
  {
   "cell_type": "code",
   "execution_count": 24,
   "id": "06957b55-c4d1-42b4-8dfb-13dd16c76798",
   "metadata": {},
   "outputs": [
    {
     "data": {
      "text/plain": [
       "[0, 0, 0, 0, 0, 0, 0, 0, 0, 0]"
      ]
     },
     "execution_count": 49,
     "metadata": {},
     "output_type": "execute_result"
    }
   ],
   "source": [
    "print(squares.values())"
   ]
  },
  {
   "cell_type": "code",
   "execution_count": 63,
   "id": "b75ab482-c1a0-48ff-af67-c2f289524338",
   "metadata": {},
   "outputs": [],
   "source": [
    "def test_favorite_color_normal_case2() -> None:\n",
    "    \"\"\"Tests if tie for mode exists, will it provide the first one in the dictionary.\"\"\"\n",
    "    \n",
    "    assert favorite_color(test_dict) == \"purple\""
   ]
  },
  {
   "cell_type": "code",
   "execution_count": 66,
   "id": "873b9b13-0c08-4501-b6c4-f45dd133b5ca",
   "metadata": {},
   "outputs": [
    {
     "data": {
      "text/plain": [
       "True"
      ]
     },
     "execution_count": 66,
     "metadata": {},
     "output_type": "execute_result"
    }
   ],
   "source": [
    "test_dict: dict[str, str] = {\"Pranav\": \"purple\", \"Kris\": \"blue\", \"Roshan\": \"red\"}\n",
    "favorite_color(test_dict) == \"purple\""
   ]
  },
  {
   "cell_type": "code",
   "execution_count": 67,
   "id": "0c12ec15-fce8-4d58-bfd4-3eb66bdf1b7f",
   "metadata": {},
   "outputs": [],
   "source": [
    "def count(xs: list[str]) -> dict[str, int]:\n",
    "    \"\"\"Creates a dict with each unique value and finds the amount of times it occurs in a list.\"\"\"\n",
    "    result_dict: dict[str, int] = {}\n",
    "    for index in xs:\n",
    "        if index in result_dict:\n",
    "            result_dict[index] += 1\n",
    "        else:\n",
    "            result_dict[index] = 1\n",
    "    return result_dict"
   ]
  },
  {
   "cell_type": "code",
   "execution_count": 70,
   "id": "896b76c1-87f2-4304-ae3b-434f532a8db0",
   "metadata": {},
   "outputs": [
    {
     "data": {
      "text/plain": [
       "{'piza1': 1, 'pizza': 1, 'piza2': 1, 'piza3': 1, 'Pranav': 1}"
      ]
     },
     "execution_count": 70,
     "metadata": {},
     "output_type": "execute_result"
    }
   ],
   "source": [
    "count([\"piza1\", \"pizza\", \"piza2\", \"piza3\", \"Pranav\"])"
   ]
  },
  {
   "cell_type": "code",
   "execution_count": null,
   "id": "8c678edd-cb3b-485c-8afc-1c0b0054d829",
   "metadata": {},
   "outputs": [],
   "source": []
  }
 ],
 "metadata": {
  "kernelspec": {
   "display_name": "Python 3 (ipykernel)",
   "language": "python",
   "name": "python3"
  },
  "language_info": {
   "codemirror_mode": {
    "name": "ipython",
    "version": 3
   },
   "file_extension": ".py",
   "mimetype": "text/x-python",
   "name": "python",
   "nbconvert_exporter": "python",
   "pygments_lexer": "ipython3",
   "version": "3.10.6"
  }
 },
 "nbformat": 4,
 "nbformat_minor": 5
}
