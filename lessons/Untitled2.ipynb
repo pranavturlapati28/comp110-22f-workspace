{
 "cells": [
  {
   "cell_type": "code",
   "execution_count": 1,
   "id": "39eae115-5abf-4187-9efe-bc112559197c",
   "metadata": {},
   "outputs": [],
   "source": [
    "def average_grades(student_grades: dict[str, list[int]]) -> dict[str, float]:\n",
    "    new_dict: dict[str, float] = {}\n",
    "    for key in student_grades:\n",
    "        sum_grades: int = 0\n",
    "        for value in student_grades[key]:\n",
    "            sum_grades += value\n",
    "        new_dict[key] = sum_grades/len(student_grades[key])\n",
    "    return new_dict"
   ]
  },
  {
   "cell_type": "code",
   "execution_count": 2,
   "id": "b08dfb1d-4992-4559-b2e5-09372c158565",
   "metadata": {},
   "outputs": [
    {
     "data": {
      "text/plain": [
       "{'Bill': 88.66666666666667, 'Annie': 93.33333333333333}"
      ]
     },
     "execution_count": 2,
     "metadata": {},
     "output_type": "execute_result"
    }
   ],
   "source": [
    "average_grades({'Bill': [75, 94, 97], 'Annie': [88, 93, 99]})"
   ]
  },
  {
   "cell_type": "code",
   "execution_count": null,
   "id": "0c1dd9cb-f0d9-4469-885b-c45c1a450026",
   "metadata": {},
   "outputs": [],
   "source": []
  }
 ],
 "metadata": {
  "kernelspec": {
   "display_name": "Python 3 (ipykernel)",
   "language": "python",
   "name": "python3"
  },
  "language_info": {
   "codemirror_mode": {
    "name": "ipython",
    "version": 3
   },
   "file_extension": ".py",
   "mimetype": "text/x-python",
   "name": "python",
   "nbconvert_exporter": "python",
   "pygments_lexer": "ipython3",
   "version": "3.10.6"
  }
 },
 "nbformat": 4,
 "nbformat_minor": 5
}
