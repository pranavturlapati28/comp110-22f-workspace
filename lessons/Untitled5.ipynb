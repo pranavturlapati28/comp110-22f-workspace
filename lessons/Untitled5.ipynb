{
 "cells": [
  {
   "cell_type": "code",
   "execution_count": 11,
   "id": "d0c09771-cf84-45ae-8a64-2d62834a9be5",
   "metadata": {},
   "outputs": [
    {
     "name": "stdout",
     "output_type": "stream",
     "text": [
      "0 1\n",
      "0 2\n",
      "0 3\n",
      "1 2\n",
      "1 3\n",
      "2 3\n"
     ]
    }
   ],
   "source": [
    "cells = [0,1,2,3]\n",
    "\n",
    "for i in range(0,len(cells)-1):\n",
    "    for z in range(i+1, len(cells)):\n",
    "        print(cells[i], cells[z])"
   ]
  },
  {
   "cell_type": "code",
   "execution_count": 1,
   "id": "385cc4ea-e884-4f33-81a4-facbe3291f4e",
   "metadata": {},
   "outputs": [],
   "source": [
    "from typing import Union\n",
    "\n",
    "def add(lhs: float = 0.0, rhs: Union[str, float] = 0.0) -> float:\n",
    "    result: float = lhs\n",
    "    if isinstance(rhs, str):\n",
    "        result += float(rhs)\n",
    "    else:\n",
    "        result += rhs\n",
    "    return result"
   ]
  },
  {
   "cell_type": "code",
   "execution_count": 9,
   "id": "943e8963-75c9-491b-8a78-899b79aa356c",
   "metadata": {},
   "outputs": [
    {
     "data": {
      "text/plain": [
       "210.0"
      ]
     },
     "execution_count": 9,
     "metadata": {},
     "output_type": "execute_result"
    }
   ],
   "source": [
    "add(110.0, \"100.0\")"
   ]
  },
  {
   "cell_type": "code",
   "execution_count": null,
   "id": "2617246c-b4bd-4b89-9bcc-cc51830596c5",
   "metadata": {},
   "outputs": [],
   "source": []
  }
 ],
 "metadata": {
  "kernelspec": {
   "display_name": "Python 3 (ipykernel)",
   "language": "python",
   "name": "python3"
  },
  "language_info": {
   "codemirror_mode": {
    "name": "ipython",
    "version": 3
   },
   "file_extension": ".py",
   "mimetype": "text/x-python",
   "name": "python",
   "nbconvert_exporter": "python",
   "pygments_lexer": "ipython3",
   "version": "3.10.6"
  }
 },
 "nbformat": 4,
 "nbformat_minor": 5
}
