{
 "cells": [
  {
   "cell_type": "code",
   "execution_count": 6,
   "id": "05a9ded5-369c-4edb-b093-39ee13480f0a",
   "metadata": {},
   "outputs": [],
   "source": [
    "def only_evens(xs: list[int]) -> list[int]:\n",
    "    new_list: list[int] = list()\n",
    "    for item in xs:\n",
    "        if item % 2 == 0:\n",
    "            new_list.append(item)\n",
    "    return new_list"
   ]
  },
  {
   "cell_type": "code",
   "execution_count": 13,
   "id": "ac3502d6-7d99-420e-80cc-a5ff7a4cf19a",
   "metadata": {},
   "outputs": [
    {
     "data": {
      "text/plain": [
       "[]"
      ]
     },
     "execution_count": 13,
     "metadata": {},
     "output_type": "execute_result"
    }
   ],
   "source": [
    "only_evens([])"
   ]
  },
  {
   "cell_type": "code",
   "execution_count": 8,
   "id": "4cff88ff-5424-4f54-83e3-82bce2c728e7",
   "metadata": {},
   "outputs": [],
   "source": [
    "def concat(first_list: list[int], second_list: list[int]) -> list[int]:\n",
    "    \"\"\"This list combines two lists\"\"\"\n",
    "    new_list: list[int] = first_list\n",
    "    for item in second_list:\n",
    "        new_list.append(item)\n",
    "    return new_list"
   ]
  },
  {
   "cell_type": "code",
   "execution_count": 15,
   "id": "97bccfb1-ca7e-4bcd-8b7d-ce834625286d",
   "metadata": {},
   "outputs": [
    {
     "data": {
      "text/plain": [
       "[1]"
      ]
     },
     "execution_count": 15,
     "metadata": {},
     "output_type": "execute_result"
    }
   ],
   "source": [
    "concat([1], [])"
   ]
  },
  {
   "cell_type": "code",
   "execution_count": 11,
   "id": "a1f3b65d-9b5e-4576-90fc-c0ae5986c663",
   "metadata": {},
   "outputs": [],
   "source": [
    "def sub(super_list: list[int], first_index: int, second_index: int) -> list[int]:\n",
    "    \"\"\"This list creates a subset of the super_list that starts at the first index and ends at the second index\"\"\"\n",
    "    subset_list: list[int] = list()\n",
    "    index_counter: int = first_index\n",
    "    while index_counter < second_index:\n",
    "        subset_list.append(super_list[index_counter])\n",
    "        index_counter += 1\n",
    "    return subset_list"
   ]
  },
  {
   "cell_type": "code",
   "execution_count": 23,
   "id": "7bc61905-2d65-4faa-bf0e-72b8b9fdd703",
   "metadata": {},
   "outputs": [
    {
     "data": {
      "text/plain": [
       "[1, 2]"
      ]
     },
     "execution_count": 23,
     "metadata": {},
     "output_type": "execute_result"
    }
   ],
   "source": [
    "a_list = [1,2,3,4,5,6,7]\n",
    "sub(a_list, 0,2)"
   ]
  },
  {
   "cell_type": "code",
   "execution_count": 7,
   "id": "1827fc3c-20d9-4cd5-b940-21d3e97fd0fe",
   "metadata": {},
   "outputs": [],
   "source": [
    "ROCK_EMOJI = \"\\U0001F44A\"\n",
    "PAPER_EMOJI = \"\\U0001F91A\"\n",
    "SCISSOR_EMOJI = \"\\U0001F596\"\n",
    "player: str = \"\"\n",
    "points: int"
   ]
  },
  {
   "cell_type": "code",
   "execution_count": 6,
   "id": "b08d54e5-1a7a-465f-a5a6-ba08a23040bb",
   "metadata": {},
   "outputs": [
    {
     "name": "stdin",
     "output_type": "stream",
     "text": [
      "Nice to meet you! What's your name? pranav\n"
     ]
    },
    {
     "name": "stdout",
     "output_type": "stream",
     "text": [
      "Hey pranav how are you? Let's play play rock, paper, scissors\n"
     ]
    }
   ],
   "source": [
    "def play_rps() -> None:\n",
    "    global points\n",
    "    player_choice: str = input(f\"Thanks for choosing to play rock, paper, scissors with me {player}! What do you choose?: ('Rock' {ROCK_EMOJI}, 'Paper' {PAPER_EMOJI}, 'Scissors' {SCISSOR_EMOJI})\")\n",
    "    while player_choice != \"Rock\" or player_choice != \"Paper\" or player_choice != \"Scissors\":\n",
    "        player = input(f\"Please choose 'Rock', 'Paper', or 'Scissors'\")"
   ]
  },
  {
   "cell_type": "code",
   "execution_count": 8,
   "id": "ecaaf977-3b5f-4ff9-9431-e1ffb90c3b1f",
   "metadata": {},
   "outputs": [
    {
     "ename": "NameError",
     "evalue": "name 'play_rps' is not defined",
     "output_type": "error",
     "traceback": [
      "\u001b[0;31m---------------------------------------------------------------------------\u001b[0m",
      "\u001b[0;31mNameError\u001b[0m                                 Traceback (most recent call last)",
      "Input \u001b[0;32mIn [8]\u001b[0m, in \u001b[0;36m<cell line: 1>\u001b[0;34m()\u001b[0m\n\u001b[0;32m----> 1\u001b[0m \u001b[43mplay_rps\u001b[49m()\n",
      "\u001b[0;31mNameError\u001b[0m: name 'play_rps' is not defined"
     ]
    }
   ],
   "source": [
    "play_rps()"
   ]
  },
  {
   "cell_type": "code",
   "execution_count": null,
   "id": "4bfd024e-b80d-4646-ad02-7ed70cd95d09",
   "metadata": {},
   "outputs": [],
   "source": []
  }
 ],
 "metadata": {
  "kernelspec": {
   "display_name": "Python 3 (ipykernel)",
   "language": "python",
   "name": "python3"
  },
  "language_info": {
   "codemirror_mode": {
    "name": "ipython",
    "version": 3
   },
   "file_extension": ".py",
   "mimetype": "text/x-python",
   "name": "python",
   "nbconvert_exporter": "python",
   "pygments_lexer": "ipython3",
   "version": "3.10.6"
  }
 },
 "nbformat": 4,
 "nbformat_minor": 5
}
